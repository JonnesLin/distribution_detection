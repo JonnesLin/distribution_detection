{
  "nbformat": 4,
  "nbformat_minor": 0,
  "metadata": {
    "colab": {
      "name": "Tutorial.ipynb",
      "provenance": [],
      "collapsed_sections": []
    },
    "kernelspec": {
      "name": "python3",
      "display_name": "Python 3"
    },
    "language_info": {
      "name": "python"
    }
  },
  "cells": [
    {
      "cell_type": "code",
      "source": [
        "# Install DDetector library\n",
        "!pip install DDetector"
      ],
      "metadata": {
        "colab": {
          "base_uri": "https://localhost:8080/"
        },
        "id": "S5TCLDDsK5hP",
        "outputId": "bb8e6ddc-57ad-475d-b40e-c7fd91e29192"
      },
      "execution_count": 1,
      "outputs": [
        {
          "output_type": "stream",
          "name": "stdout",
          "text": [
            "Collecting DDetector\n",
            "  Downloading DDetector-0.0.3-py3-none-any.whl (3.4 kB)\n",
            "Requirement already satisfied: scikit-learn in /usr/local/lib/python3.7/dist-packages (from DDetector) (1.0.1)\n",
            "Requirement already satisfied: numpy>=1.14.6 in /usr/local/lib/python3.7/dist-packages (from scikit-learn->DDetector) (1.19.5)\n",
            "Requirement already satisfied: scipy>=1.1.0 in /usr/local/lib/python3.7/dist-packages (from scikit-learn->DDetector) (1.4.1)\n",
            "Requirement already satisfied: joblib>=0.11 in /usr/local/lib/python3.7/dist-packages (from scikit-learn->DDetector) (1.1.0)\n",
            "Requirement already satisfied: threadpoolctl>=2.0.0 in /usr/local/lib/python3.7/dist-packages (from scikit-learn->DDetector) (3.0.0)\n",
            "Installing collected packages: DDetector\n",
            "Successfully installed DDetector-0.0.3\n"
          ]
        }
      ]
    },
    {
      "cell_type": "code",
      "execution_count": 22,
      "metadata": {
        "id": "aefu2_HGD6Uq"
      },
      "outputs": [],
      "source": [
        "from sklearn import datasets\n",
        "from tests import *\n",
        "from sklearn.model_selection import train_test_split as ts\n",
        "import numpy as np\n",
        "import warnings\n",
        "warnings.filterwarnings('ignore')\n",
        "\n",
        "np.random.seed(456)\n",
        "# import data\n",
        "boston = datasets.load_boston()\n",
        "    \n",
        "# Get features as the X matrix form\n",
        "X = boston.data\n",
        "\n",
        "# Split data into trian and test parts\n",
        "X_train, X_test = ts(X, test_size=0.3)"
      ]
    },
    {
      "cell_type": "code",
      "source": [
        "# Using DDetector to detector the gap of train and test data\n",
        "from DDetector import detector"
      ],
      "metadata": {
        "id": "p789mPajLUtG"
      },
      "execution_count": 23,
      "outputs": []
    },
    {
      "cell_type": "code",
      "source": [
        "# Using SVM to detector the gap\n",
        "traindata_confidence, testdata_confidence = detector.svm_test(X_train, X_test, confidence_score=True) \n",
        "\n",
        "# confidence is used to measure the probability of data belonged to train or test part\n",
        "print(traindata_confidence[:5])"
      ],
      "metadata": {
        "colab": {
          "base_uri": "https://localhost:8080/"
        },
        "id": "mxf5iQayGiTd",
        "outputId": "062757b7-6174-4065-a3a4-590e9a817998"
      },
      "execution_count": 24,
      "outputs": [
        {
          "output_type": "stream",
          "name": "stdout",
          "text": [
            "The similarity of train and test data is: 56.58% \n",
            "[-1.00018533 -1.0000487  -1.00029592 -0.99755119 -1.00033995]\n"
          ]
        }
      ]
    },
    {
      "cell_type": "code",
      "source": [
        "# Using KNN to detector the gap\n",
        "detector.knn_test(X_train, X_test)"
      ],
      "metadata": {
        "colab": {
          "base_uri": "https://localhost:8080/"
        },
        "id": "RwJpqctGMO57",
        "outputId": "9d58e14a-619b-4708-865e-6c42ca8ae505"
      },
      "execution_count": 25,
      "outputs": [
        {
          "output_type": "stream",
          "name": "stdout",
          "text": [
            "The similarity of train and test data is: 71.05% \n"
          ]
        }
      ]
    },
    {
      "cell_type": "code",
      "source": [
        "# Using KMeans to detector the gap\n",
        "detector.kmeans_test(X_train, X_test)\n"
      ],
      "metadata": {
        "colab": {
          "base_uri": "https://localhost:8080/"
        },
        "id": "knbl-yPlMYBB",
        "outputId": "972cf81a-81b4-4fea-ea42-110c3d6a7197"
      },
      "execution_count": 26,
      "outputs": [
        {
          "output_type": "stream",
          "name": "stdout",
          "text": [
            "The similarity of train and test data is: 73.68% \n"
          ]
        }
      ]
    },
    {
      "cell_type": "code",
      "source": [
        "# Using Linear Model to detector the gap\n",
        "detector.LR_test(X_train, X_test, max_iter=1e5)\n"
      ],
      "metadata": {
        "colab": {
          "base_uri": "https://localhost:8080/"
        },
        "id": "STGHACBRMYDe",
        "outputId": "17f8dde4-bceb-409e-aa78-5aa3dc308013"
      },
      "execution_count": 27,
      "outputs": [
        {
          "output_type": "stream",
          "name": "stdout",
          "text": [
            "The similarity of train and test data is: 64.47% \n"
          ]
        }
      ]
    },
    {
      "cell_type": "code",
      "source": [
        "# Using Ridge Model to detector the gap\n",
        "detector.ridge_test(X_train, X_test, normalize=False)\n"
      ],
      "metadata": {
        "colab": {
          "base_uri": "https://localhost:8080/"
        },
        "id": "5d2NgI5pMYFx",
        "outputId": "bb60a34d-e9e1-4409-f76b-fe727d45b7f7"
      },
      "execution_count": 28,
      "outputs": [
        {
          "output_type": "stream",
          "name": "stdout",
          "text": [
            "The similarity of train and test data is: 57.89% \n"
          ]
        }
      ]
    },
    {
      "cell_type": "code",
      "source": [
        "# Using Naive Bayes Model to detector the gap\n",
        "detector.CNB_test(X_train, X_test, normalize=False)\n"
      ],
      "metadata": {
        "colab": {
          "base_uri": "https://localhost:8080/"
        },
        "id": "ij3y-LMPMYH6",
        "outputId": "bf203534-6dbd-4913-d728-ae2a5fbb0c64"
      },
      "execution_count": 29,
      "outputs": [
        {
          "output_type": "stream",
          "name": "stdout",
          "text": [
            "The similarity of train and test data is: 89.47% \n"
          ]
        }
      ]
    },
    {
      "cell_type": "code",
      "source": [
        "# Using Decision Tree to detector the gap\n",
        "detector.DecTree_test(X_train, X_test)"
      ],
      "metadata": {
        "colab": {
          "base_uri": "https://localhost:8080/"
        },
        "id": "invwoqG1MYJ3",
        "outputId": "fa2db4ee-8581-4425-df62-f71961d9ab5b"
      },
      "execution_count": 30,
      "outputs": [
        {
          "output_type": "stream",
          "name": "stdout",
          "text": [
            "The similarity of train and test data is: 71.05% \n"
          ]
        }
      ]
    },
    {
      "cell_type": "code",
      "source": [
        "# Using Random Forest to detector the gap\n",
        "detector.RT_test(X_train, X_test, n_estimators=3, max_depth=5, confidence_score=False)"
      ],
      "metadata": {
        "colab": {
          "base_uri": "https://localhost:8080/"
        },
        "id": "fiUWQwboLfZw",
        "outputId": "51b3951b-f113-4229-f166-071354397f8a"
      },
      "execution_count": 31,
      "outputs": [
        {
          "output_type": "stream",
          "name": "stdout",
          "text": [
            "The similarity of train and test data is: 72.37% \n"
          ]
        }
      ]
    },
    {
      "cell_type": "code",
      "source": [
        ""
      ],
      "metadata": {
        "id": "Sp94RJRGM9jJ"
      },
      "execution_count": null,
      "outputs": []
    }
  ]
}